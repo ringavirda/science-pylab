{
 "cells": [
  {
   "cell_type": "markdown",
   "id": "c9725148",
   "metadata": {},
   "source": [
    "# Differential spectrum balance - Dev\n",
    "This notebook was used to formulate and test code for DSB fitting function."
   ]
  },
  {
   "cell_type": "markdown",
   "id": "e86a0540",
   "metadata": {},
   "source": [
    "## Preface\n",
    "Definitions and all, cannot get anywhere without these."
   ]
  },
  {
   "cell_type": "code",
   "execution_count": 1,
   "id": "7a935179-5b4c-402d-a5a2-a03825f8278d",
   "metadata": {},
   "outputs": [
    {
     "name": "stderr",
     "output_type": "stream",
     "text": [
      "Matplotlib is building the font cache; this may take a moment.\n"
     ]
    }
   ],
   "source": [
    "# Main imports\n",
    "import pandas as pd\n",
    "import matplotlib.pyplot as plt\n",
    "import numpy as np\n",
    "import sympy as sp\n",
    "import scipy as sc"
   ]
  },
  {
   "cell_type": "code",
   "execution_count": 22,
   "id": "b4a0d890-def0-431b-99de-cbedabbdfdb4",
   "metadata": {},
   "outputs": [
    {
     "data": {
      "image/png": "[encoded data removed]",
      "text/plain": [
       "<Figure size 640x480 with 1 Axes>"
      ]
     },
     "metadata": {},
     "output_type": "display_data"
    }
   ],
   "source": [
    "# Import data\n",
    "raw_data = pd.read_excel(\"data/usd_2023-2024_1.xlsx\", \"USD\")\n",
    "usd_data = np.array(raw_data.iloc[0:161, 6].values)\n",
    "plt.plot(usd_data)\n",
    "plt.show()"
   ]
  },
  {
   "cell_type": "code",
   "execution_count": 23,
   "id": "c0a367bc-a5ed-402a-919a-f66c3d41c772",
   "metadata": {},
   "outputs": [
    {
     "data": {
      "text/latex": [
       "$\\displaystyle a_{0} + a_{1} t + a_{2} \\sin{\\left(a_{3} t \\right)} + a_{4} \\cos{\\left(a_{5} t \\right)}$"
      ],
      "text/plain": [
       "a0 + a1*t + a2*sin(a3*t) + a4*cos(a5*t)"
      ]
     },
     "metadata": {},
     "output_type": "display_data"
    },
    {
     "data": {
      "text/latex": [
       "$\\displaystyle c_{0} + c_{1} t + c_{2} t^{2} + c_{3} t^{3} + c_{4} t^{4} + c_{5} t^{5}$"
      ],
      "text/plain": [
       "c0 + c1*t + c2*t**2 + c3*t**3 + c4*t**4 + c5*t**5"
      ]
     },
     "metadata": {},
     "output_type": "display_data"
    }
   ],
   "source": [
    "# String define model\n",
    "raw_model = \"a0 + a1*t + a2*sin(a3*t) + a4*cos(a5*t)\"\n",
    "model = sp.parse_expr(raw_model)\n",
    "\n",
    "# String define poly\n",
    "raw_poly = \"c0 + c1*t + c2*t**2 + c3*t**3 + c4*t**4 + c5*t**5\"\n",
    "poly = sp.parse_expr(raw_poly)\n",
    "\n",
    "# Define main var\n",
    "t = sp.var(\"t\")\n",
    "\n",
    "display(model)\n",
    "display(poly)"
   ]
  },
  {
   "cell_type": "markdown",
   "id": "88153d51",
   "metadata": {},
   "source": [
    "## Differential spectrum balancing\n",
    "Do the thing, also includes LMS for polynomial side of things."
   ]
  },
  {
   "cell_type": "code",
   "execution_count": 24,
   "id": "beee900a",
   "metadata": {},
   "outputs": [
    {
     "data": {
      "text/plain": [
       "array([ 9.72669120e-10, -3.52193089e-07,  4.05777958e-05, -1.36826602e-03,\n",
       "       -2.33959937e-03,  3.66670632e+01])"
      ]
     },
     "execution_count": 24,
     "metadata": {},
     "output_type": "execute_result"
    }
   ],
   "source": [
    "# Do the LMS thing\n",
    "poly_vals = np.polyfit(np.arange(0, usd_data.size), usd_data, 5)\n",
    "poly_vals"
   ]
  },
  {
   "cell_type": "code",
   "execution_count": 25,
   "id": "f21a4a2c",
   "metadata": {},
   "outputs": [
    {
     "data": {
      "text/latex": [
       "$\\displaystyle a_{0} + \\frac{a_{2} a_{3}^{5} t^{5}}{120} - \\frac{a_{2} a_{3}^{3} t^{3}}{6} + \\frac{a_{4} a_{5}^{4} t^{4}}{24} - \\frac{a_{4} a_{5}^{2} t^{2}}{2} + a_{4} + t \\left(a_{1} + a_{2} a_{3}\\right)$"
      ],
      "text/plain": [
       "a0 + a2*a3**5*t**5/120 - a2*a3**3*t**3/6 + a4*a5**4*t**4/24 - a4*a5**2*t**2/2 + a4 + t*(a1 + a2*a3)"
      ]
     },
     "metadata": {},
     "output_type": "display_data"
    },
    {
     "data": {
      "text/latex": [
       "$\\displaystyle c_{0} + c_{1} t + c_{2} t^{2} + c_{3} t^{3} + c_{4} t^{4} + c_{5} t^{5}$"
      ],
      "text/plain": [
       "c0 + c1*t + c2*t**2 + c3*t**3 + c4*t**4 + c5*t**5"
      ]
     },
     "metadata": {},
     "output_type": "display_data"
    }
   ],
   "source": [
    "# Do the DSB thing\n",
    "series = sp.series(model, t).removeO()\n",
    "poly_s = sp.series(poly, t).removeO()\n",
    "\n",
    "display(series)\n",
    "display(poly_s)"
   ]
  },
  {
   "cell_type": "code",
   "execution_count": 26,
   "id": "7c6bbee1",
   "metadata": {},
   "outputs": [
    {
     "data": {
      "text/latex": [
       "$\\displaystyle \\frac{a_{2} a_{3}^{5}}{120}$"
      ],
      "text/plain": [
       "a2*a3**5/120"
      ]
     },
     "metadata": {},
     "output_type": "display_data"
    },
    {
     "data": {
      "text/latex": [
       "$\\displaystyle c_{5}$"
      ],
      "text/plain": [
       "c5"
      ]
     },
     "metadata": {},
     "output_type": "display_data"
    },
    {
     "data": {
      "text/latex": [
       "$\\displaystyle \\frac{a_{4} a_{5}^{4}}{24}$"
      ],
      "text/plain": [
       "a4*a5**4/24"
      ]
     },
     "metadata": {},
     "output_type": "display_data"
    },
    {
     "data": {
      "text/latex": [
       "$\\displaystyle c_{4}$"
      ],
      "text/plain": [
       "c4"
      ]
     },
     "metadata": {},
     "output_type": "display_data"
    },
    {
     "data": {
      "text/latex": [
       "$\\displaystyle - \\frac{a_{2} a_{3}^{3}}{6}$"
      ],
      "text/plain": [
       "-a2*a3**3/6"
      ]
     },
     "metadata": {},
     "output_type": "display_data"
    },
    {
     "data": {
      "text/latex": [
       "$\\displaystyle c_{3}$"
      ],
      "text/plain": [
       "c3"
      ]
     },
     "metadata": {},
     "output_type": "display_data"
    },
    {
     "data": {
      "text/latex": [
       "$\\displaystyle - \\frac{a_{4} a_{5}^{2}}{2}$"
      ],
      "text/plain": [
       "-a4*a5**2/2"
      ]
     },
     "metadata": {},
     "output_type": "display_data"
    },
    {
     "data": {
      "text/latex": [
       "$\\displaystyle c_{2}$"
      ],
      "text/plain": [
       "c2"
      ]
     },
     "metadata": {},
     "output_type": "display_data"
    },
    {
     "data": {
      "text/latex": [
       "$\\displaystyle a_{1} + a_{2} a_{3}$"
      ],
      "text/plain": [
       "a1 + a2*a3"
      ]
     },
     "metadata": {},
     "output_type": "display_data"
    },
    {
     "data": {
      "text/latex": [
       "$\\displaystyle c_{1}$"
      ],
      "text/plain": [
       "c1"
      ]
     },
     "metadata": {},
     "output_type": "display_data"
    },
    {
     "data": {
      "text/latex": [
       "$\\displaystyle a_{0} + a_{4}$"
      ],
      "text/plain": [
       "a0 + a4"
      ]
     },
     "metadata": {},
     "output_type": "display_data"
    },
    {
     "data": {
      "text/latex": [
       "$\\displaystyle c_{0}$"
      ],
      "text/plain": [
       "c0"
      ]
     },
     "metadata": {},
     "output_type": "display_data"
    }
   ],
   "source": [
    "model_coeffs = sp.poly(series, t).coeffs()\n",
    "poly_coeffs = sp.poly(poly_s, t).coeffs()\n",
    "for i, c in enumerate(model_coeffs):\n",
    "    display(model_coeffs[i], poly_coeffs[i])"
   ]
  },
  {
   "cell_type": "code",
   "execution_count": 27,
   "id": "713a4221",
   "metadata": {},
   "outputs": [
    {
     "data": {
      "text/plain": [
       "{a0, a1, a2, a3, a4, a5}"
      ]
     },
     "metadata": {},
     "output_type": "display_data"
    },
    {
     "data": {
      "text/plain": [
       "{c0, c1, c2, c3, c4, c5}"
      ]
     },
     "metadata": {},
     "output_type": "display_data"
    }
   ],
   "source": [
    "model_a = model.free_symbols\n",
    "model_a.remove(t)\n",
    "poly_c = poly.free_symbols\n",
    "poly_c.remove(t)\n",
    "\n",
    "display(model_a)\n",
    "display(poly_c)"
   ]
  },
  {
   "cell_type": "code",
   "execution_count": 28,
   "id": "be7ba5a3",
   "metadata": {},
   "outputs": [
    {
     "data": {
      "text/latex": [
       "$\\displaystyle t + \\sin{\\left(t \\right)} + \\cos{\\left(t \\right)}$"
      ],
      "text/plain": [
       "t + sin(t) + cos(t)"
      ]
     },
     "execution_count": 28,
     "metadata": {},
     "output_type": "execute_result"
    }
   ],
   "source": [
    "model_plain = model.copy()\n",
    "for a in model_a:\n",
    "    model_plain = model_plain.subs(a, 1)\n",
    "\n",
    "if model_plain.has(1):\n",
    "    model_plain = model_plain - 1\n",
    "\n",
    "model_plain"
   ]
  },
  {
   "cell_type": "code",
   "execution_count": 29,
   "id": "165a65b7",
   "metadata": {},
   "outputs": [
    {
     "data": {
      "text/latex": [
       "$\\displaystyle \\frac{t^{5}}{120} + \\frac{t^{4}}{24} - \\frac{t^{3}}{6} - \\frac{t^{2}}{2} + 2 t + 1$"
      ],
      "text/plain": [
       "t**5/120 + t**4/24 - t**3/6 - t**2/2 + 2*t + 1"
      ]
     },
     "execution_count": 29,
     "metadata": {},
     "output_type": "execute_result"
    }
   ],
   "source": [
    "series_plain = sp.series(model_plain, t).removeO()\n",
    "series_plain"
   ]
  },
  {
   "cell_type": "code",
   "execution_count": 30,
   "id": "453dbb6b",
   "metadata": {},
   "outputs": [
    {
     "data": {
      "text/plain": [
       "[1/120, 1/24, -1/6, -1/2, 2, 1]"
      ]
     },
     "execution_count": 30,
     "metadata": {},
     "output_type": "execute_result"
    }
   ],
   "source": [
    "model_plain_coeffs = sp.poly(series_plain, t).coeffs()\n",
    "model_plain_coeffs"
   ]
  },
  {
   "cell_type": "code",
   "execution_count": 31,
   "id": "8d71ee6c",
   "metadata": {},
   "outputs": [
    {
     "data": {
      "text/latex": [
       "$\\displaystyle a_{2} a_{3}^{5}$"
      ],
      "text/plain": [
       "a2*a3**5"
      ]
     },
     "metadata": {},
     "output_type": "display_data"
    },
    {
     "data": {
      "text/latex": [
       "$\\displaystyle a_{4} a_{5}^{4}$"
      ],
      "text/plain": [
       "a4*a5**4"
      ]
     },
     "metadata": {},
     "output_type": "display_data"
    },
    {
     "data": {
      "text/latex": [
       "$\\displaystyle a_{2} a_{3}^{3}$"
      ],
      "text/plain": [
       "a2*a3**3"
      ]
     },
     "metadata": {},
     "output_type": "display_data"
    },
    {
     "data": {
      "text/latex": [
       "$\\displaystyle a_{4} a_{5}^{2}$"
      ],
      "text/plain": [
       "a4*a5**2"
      ]
     },
     "metadata": {},
     "output_type": "display_data"
    },
    {
     "data": {
      "text/latex": [
       "$\\displaystyle \\frac{a_{1}}{2} + \\frac{a_{2} a_{3}}{2}$"
      ],
      "text/plain": [
       "a1/2 + a2*a3/2"
      ]
     },
     "metadata": {},
     "output_type": "display_data"
    },
    {
     "data": {
      "text/latex": [
       "$\\displaystyle a_{0} + a_{4}$"
      ],
      "text/plain": [
       "a0 + a4"
      ]
     },
     "metadata": {},
     "output_type": "display_data"
    }
   ],
   "source": [
    "discretes = []\n",
    "for i in range(len(model_coeffs)):\n",
    "    discretes.append(model_coeffs[i] / model_plain_coeffs[i])\n",
    "\n",
    "for d in discretes:\n",
    "    display(d)"
   ]
  },
  {
   "cell_type": "code",
   "execution_count": 32,
   "id": "385d1ed2",
   "metadata": {},
   "outputs": [
    {
     "data": {
      "text/latex": [
       "$\\displaystyle a_{2} a_{3}^{5} = c_{5}$"
      ],
      "text/plain": [
       "Eq(a2*a3**5, c5)"
      ]
     },
     "metadata": {},
     "output_type": "display_data"
    },
    {
     "data": {
      "text/latex": [
       "$\\displaystyle a_{4} a_{5}^{4} = c_{4}$"
      ],
      "text/plain": [
       "Eq(a4*a5**4, c4)"
      ]
     },
     "metadata": {},
     "output_type": "display_data"
    },
    {
     "data": {
      "text/latex": [
       "$\\displaystyle a_{2} a_{3}^{3} = c_{3}$"
      ],
      "text/plain": [
       "Eq(a2*a3**3, c3)"
      ]
     },
     "metadata": {},
     "output_type": "display_data"
    },
    {
     "data": {
      "text/latex": [
       "$\\displaystyle a_{4} a_{5}^{2} = c_{2}$"
      ],
      "text/plain": [
       "Eq(a4*a5**2, c2)"
      ]
     },
     "metadata": {},
     "output_type": "display_data"
    },
    {
     "data": {
      "text/latex": [
       "$\\displaystyle \\frac{a_{1}}{2} + \\frac{a_{2} a_{3}}{2} = c_{1}$"
      ],
      "text/plain": [
       "Eq(a1/2 + a2*a3/2, c1)"
      ]
     },
     "metadata": {},
     "output_type": "display_data"
    },
    {
     "data": {
      "text/latex": [
       "$\\displaystyle a_{0} + a_{4} = c_{0}$"
      ],
      "text/plain": [
       "Eq(a0 + a4, c0)"
      ]
     },
     "metadata": {},
     "output_type": "display_data"
    }
   ],
   "source": [
    "balance = []\n",
    "for i, d in enumerate(discretes):\n",
    "    balance.append(sp.Eq(d, poly_coeffs[i]))\n",
    "\n",
    "for d in balance:\n",
    "    display(d)"
   ]
  },
  {
   "cell_type": "code",
   "execution_count": 33,
   "id": "497618cb",
   "metadata": {},
   "outputs": [
    {
     "data": {
      "text/plain": [
       "[a0, a1, a2, a3, a4, a5]"
      ]
     },
     "metadata": {},
     "output_type": "display_data"
    },
    {
     "data": {
      "text/latex": [
       "$\\displaystyle \\left( \\frac{c_{0} c_{4} - c_{2}^{2}}{c_{4}}, \\  \\frac{2 c_{1} c_{5} - c_{3}^{2}}{c_{5}}, \\  \\frac{c_{3}^{3} \\sqrt{\\frac{c_{5}}{c_{3}}}}{c_{5}^{2}}, \\  \\sqrt{\\frac{c_{5}}{c_{3}}}, \\  \\frac{c_{2}^{2}}{c_{4}}, \\  \\sqrt{\\frac{c_{4}}{c_{2}}}\\right)$"
      ],
      "text/plain": [
       "((c0*c4 - c2**2)/c4, (2*c1*c5 - c3**2)/c5, c3**3*sqrt(c5/c3)/c5**2, sqrt(c5/c3), c2**2/c4, sqrt(c4/c2))"
      ]
     },
     "metadata": {},
     "output_type": "display_data"
    }
   ],
   "source": [
    "model_a_list = sorted(model_a, key=lambda s: s.name)\n",
    "solution = sp.nonlinsolve(balance, model_a_list)\n",
    "if len(solution) > 1:\n",
    "    solution = list(solution)[0]\n",
    "display(model_a_list, solution)"
   ]
  },
  {
   "cell_type": "markdown",
   "id": "6bfeee5b",
   "metadata": {},
   "source": [
    "## Substitution\n",
    "General solution that we found is well and good, but we need to make it more specific to be more useful."
   ]
  },
  {
   "cell_type": "code",
   "execution_count": 34,
   "id": "e031e69c",
   "metadata": {},
   "outputs": [
    {
     "data": {
      "text/latex": [
       "$\\displaystyle c_{0} + 2 c_{1} t + \\frac{c_{2}^{2} \\cos{\\left(t \\sqrt{\\frac{c_{4}}{c_{2}}} \\right)}}{c_{4}} - \\frac{c_{2}^{2}}{c_{4}} + \\frac{c_{3}^{3} \\sqrt{\\frac{c_{5}}{c_{3}}} \\sin{\\left(t \\sqrt{\\frac{c_{5}}{c_{3}}} \\right)}}{c_{5}^{2}} - \\frac{c_{3}^{2} t}{c_{5}}$"
      ],
      "text/plain": [
       "c0 + 2*c1*t + c2**2*cos(t*sqrt(c4/c2))/c4 - c2**2/c4 + c3**3*sqrt(c5/c3)*sin(t*sqrt(c5/c3))/c5**2 - c3**2*t/c5"
      ]
     },
     "execution_count": 34,
     "metadata": {},
     "output_type": "execute_result"
    }
   ],
   "source": [
    "# Substitute original model\n",
    "for i, a in enumerate(model_a_list):\n",
    "    model = model.subs(a, solution[i])\n",
    "model.simplify()"
   ]
  },
  {
   "cell_type": "code",
   "execution_count": 35,
   "id": "e5e4e95c",
   "metadata": {},
   "outputs": [
    {
     "data": {
      "text/latex": [
       "$\\displaystyle - 1.69750307923766 t + 345.758956720365 \\sin{\\left(0.00489596537585437 t \\right)} - 5.3156974264557 \\cos{\\left(0.0160437225983562 t \\right)} + 41.9827606615224$"
      ],
      "text/plain": [
       "-1.69750307923766*t + 345.758956720365*sin(0.00489596537585437*t) - 5.3156974264557*cos(0.0160437225983562*t) + 41.9827606615224"
      ]
     },
     "execution_count": 35,
     "metadata": {},
     "output_type": "execute_result"
    }
   ],
   "source": [
    "# Substitute with calculated poly values\n",
    "for i, c in enumerate(poly_coeffs):\n",
    "    model = model.subs(c, poly_vals[i])\n",
    "model"
   ]
  },
  {
   "cell_type": "code",
   "execution_count": 36,
   "id": "9baa6d4c",
   "metadata": {},
   "outputs": [
    {
     "data": {
      "text/latex": [
       "$\\displaystyle \\left( 41.9827606615224, \\  -1.69750307923766, \\  345.758956720365, \\  0.00489596537585437, \\  -5.3156974264557, \\  0.0160437225983562\\right)$"
      ],
      "text/plain": [
       "(41.9827606615224, -1.69750307923766, 345.758956720365, 0.00489596537585437, -5.3156974264557, 0.0160437225983562)"
      ]
     },
     "execution_count": 36,
     "metadata": {},
     "output_type": "execute_result"
    }
   ],
   "source": [
    "for i, c in enumerate(poly_coeffs):\n",
    "    solution = solution.subs(c, poly_vals[i])\n",
    "solution"
   ]
  },
  {
   "cell_type": "code",
   "execution_count": 37,
   "id": "beafcfd0",
   "metadata": {},
   "outputs": [
    {
     "data": {
      "image/png": "[encoded data removed]",
      "text/plain": [
       "<Figure size 640x480 with 1 Axes>"
      ]
     },
     "metadata": {},
     "output_type": "display_data"
    }
   ],
   "source": [
    "model_y = np.ndarray(len(usd_data))\n",
    "for i in np.arange(model_y.size):\n",
    "    model_y[i] = model.subs(t, i)\n",
    "\n",
    "plt.plot(usd_data)\n",
    "plt.plot(model_y)\n",
    "plt.show()"
   ]
  },
  {
   "cell_type": "markdown",
   "id": "3f63d5bc",
   "metadata": {},
   "source": [
    "## Numeric\n",
    "As one can see, DSB on itself cannot produce any normal results, so we need to give it a friend in the form of cure fit. \\\n",
    "_It's so curvy..._"
   ]
  },
  {
   "cell_type": "code",
   "execution_count": 38,
   "id": "b1a4bfe7",
   "metadata": {},
   "outputs": [
    {
     "data": {
      "image/png": "[encoded data removed]",
      "text/plain": [
       "<Figure size 640x480 with 1 Axes>"
      ]
     },
     "metadata": {},
     "output_type": "display_data"
    }
   ],
   "source": [
    "# Do the numeric thing\n",
    "model_r = sp.parse_expr(raw_model)\n",
    "model_al = model_a_list.copy()\n",
    "model_al.insert(0, t)\n",
    "model_l = sp.lambdify(model_al, model_r)\n",
    "\n",
    "sol = np.array(solution).astype(np.float64)\n",
    "\n",
    "coeffs = sc.optimize.curve_fit(\n",
    "    model_l, np.arange(usd_data.size), usd_data, p0=sol, maxfev=100000\n",
    ")\n",
    "\n",
    "model_yr = np.ndarray(len(usd_data))\n",
    "for i in np.arange(usd_data.size):\n",
    "    model_yr[i] = model_l(i, *coeffs[0])\n",
    "\n",
    "plt.plot(usd_data)\n",
    "plt.plot(model_yr)\n",
    "plt.show()"
   ]
  }
 ],
 "metadata": {
  "kernelspec": {
   "display_name": "Python 3 (ipykernel)",
   "language": "python",
   "name": "python3"
  },
  "language_info": {
   "codemirror_mode": {
    "name": "ipython",
    "version": 3
   },
   "file_extension": ".py",
   "mimetype": "text/x-python",
   "name": "python",
   "nbconvert_exporter": "python",
   "pygments_lexer": "ipython3",
   "version": "3.12.6"
  }
 },
 "nbformat": 4,
 "nbformat_minor": 5
}
